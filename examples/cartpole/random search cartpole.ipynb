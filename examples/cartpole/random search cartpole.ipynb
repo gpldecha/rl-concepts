{
 "cells": [
  {
   "cell_type": "markdown",
   "metadata": {},
   "source": [
    "This is an example of how to solve the CartPole gym environment through pure random search.\n",
    "This example is a slight addaptation of [Simple reinforcement learning methods to learn CartPole](http://kvfrans.com/simple-algoritms-for-solving-cartpole/)"
   ]
  },
  {
   "cell_type": "markdown",
   "metadata": {},
   "source": [
    "### imports"
   ]
  },
  {
   "cell_type": "code",
   "execution_count": 1,
   "metadata": {
    "collapsed": true
   },
   "outputs": [],
   "source": [
    "import gym\n",
    "import numpy as np\n",
    "import time\n",
    "import matplotlib.pyplot as plt"
   ]
  },
  {
   "cell_type": "markdown",
   "metadata": {},
   "source": [
    "## Policy\n",
    "\n",
    "The policy is simply a linear function of the observation \n",
    "\n",
    "$$ a = <W,o>$$\n"
   ]
  },
  {
   "cell_type": "code",
   "execution_count": 2,
   "metadata": {
    "collapsed": true
   },
   "outputs": [],
   "source": [
    "class Policy:\n",
    "\n",
    "    def __init__(self):\n",
    "        self.parameters = None\n",
    "        self.reset_parameters()\n",
    "\n",
    "    def get_action(self, observation):\n",
    "        return 0 if np.matmul(self.parameters, observation) < 0 else 1\n",
    "\n",
    "    def set_parameters(self, parameters):\n",
    "        self.parameters = np.copy(parameters)\n",
    "\n",
    "    def get_parameters(self):\n",
    "        return np.copy(self.parameters)\n",
    "\n",
    "    def reset_parameters(self):\n",
    "        self.parameters = np.random.rand(4) * 2 -1"
   ]
  },
  {
   "cell_type": "markdown",
   "metadata": {},
   "source": [
    "## Sample generation"
   ]
  },
  {
   "cell_type": "code",
   "execution_count": 3,
   "metadata": {
    "collapsed": true
   },
   "outputs": [],
   "source": [
    "def run_episode(env, policy, is_gui=False):\n",
    "    observation = env.reset()\n",
    "    totalreward = 0\n",
    "    for k in xrange(200):\n",
    "        if is_gui:\n",
    "            env.render()\n",
    "        action = policy.get_action(observation)\n",
    "        observation, reward, done, info = env.step(action)\n",
    "        totalreward += reward\n",
    "        if is_gui:\n",
    "            time.sleep(0.05)\n",
    "        if done:\n",
    "            break\n",
    "    return totalreward"
   ]
  },
  {
   "cell_type": "markdown",
   "metadata": {},
   "source": [
    "## Find best parameters by random search"
   ]
  },
  {
   "cell_type": "code",
   "execution_count": 4,
   "metadata": {},
   "outputs": [
    {
     "name": "stdout",
     "output_type": "stream",
     "text": [
      "found best 200.0\n"
     ]
    }
   ],
   "source": [
    "    env = gym.make('CartPole-v0')\n",
    "    policy = Policy()\n",
    "    bestparams = None\n",
    "    bestreward = 0\n",
    "    for _ in xrange(10000):\n",
    "        policy.reset_parameters()\n",
    "        reward = run_episode(env, policy)\n",
    "        if reward > bestreward:\n",
    "            bestreward = reward\n",
    "            bestparams = policy.get_parameters()\n",
    "            # considered solved if the agent lasts 200 timesteps\n",
    "            if reward == 200:\n",
    "                print('found best {}'.format(bestreward))\n",
    "                break\n",
    "\n",
    "    policy.set_parameters(bestparams)\n",
    "    reward = run_episode(env, policy, True)"
   ]
  },
  {
   "cell_type": "markdown",
   "metadata": {},
   "source": [
    "## Generate statistics "
   ]
  },
  {
   "cell_type": "code",
   "execution_count": 9,
   "metadata": {},
   "outputs": [
    {
     "name": "stdout",
     "output_type": "stream",
     "text": [
      "0\n",
      "100\n",
      "200\n",
      "300\n",
      "400\n",
      "500\n",
      "600\n",
      "700\n",
      "800\n",
      "900\n",
      "finished\n"
     ]
    }
   ],
   "source": [
    "env = gym.make('CartPole-v0')\n",
    "policy = Policy()\n",
    "episodes_until_optimal = []\n",
    "\n",
    "for k in xrange(1000):\n",
    "    \n",
    "    bestparams = None\n",
    "    bestreward = 0\n",
    "    \n",
    "    if k % 100 == 0:\n",
    "        print(k)\n",
    "    \n",
    "    for t in xrange(10000):\n",
    "        policy.reset_parameters()\n",
    "        reward = run_episode(env, policy)\n",
    "        if reward > bestreward:\n",
    "            bestreward = reward\n",
    "            bestparams = policy.get_parameters()\n",
    "            # considered solved if the agent lasts 200 timesteps\n",
    "            if reward == 200:\n",
    "                episodes_until_optimal.append(t)\n",
    "                break    \n",
    "print('finished')"
   ]
  },
  {
   "cell_type": "markdown",
   "metadata": {},
   "source": [
    "### plot statistics "
   ]
  },
  {
   "cell_type": "code",
   "execution_count": 17,
   "metadata": {},
   "outputs": [
    {
     "data": {
      "image/png": "[encoded data removed]",
      "text/plain": [
       "<matplotlib.figure.Figure at 0x7fc345000790>"
      ]
     },
     "metadata": {},
     "output_type": "display_data"
    }
   ],
   "source": [
    "Y = np.vstack(episodes_until_optimal)\n",
    "\n",
    "plt.figure()\n",
    "n, bins, patches = plt.hist(Y,  50, normed=1, facecolor='green', alpha=0.75)\n",
    "plt.xlabel('Episodes required to reach 200')\n",
    "plt.ylabel('Frequency')\n",
    "plt.title('Random search policy')\n",
    "plt.show()\n"
   ]
  }
 ],
 "metadata": {
  "kernelspec": {
   "display_name": "Python 2",
   "language": "python",
   "name": "python2"
  },
  "language_info": {
   "codemirror_mode": {
    "name": "ipython",
    "version": 2
   },
   "file_extension": ".py",
   "mimetype": "text/x-python",
   "name": "python",
   "nbconvert_exporter": "python",
   "pygments_lexer": "ipython2",
   "version": "2.7.12"
  }
 },
 "nbformat": 4,
 "nbformat_minor": 2
}
